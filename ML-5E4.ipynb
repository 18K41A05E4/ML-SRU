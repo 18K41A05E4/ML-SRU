{
 "cells": [
  {
   "cell_type": "code",
   "execution_count": 28,
   "metadata": {},
   "outputs": [],
   "source": [
    "import pandas as pd\n",
    "import numpy as np\n",
    "import cv2\n",
    "import matplotlib.pyplot as plt\n",
    "import tensorflow as tf\n",
    "from tensorflow.keras import datasets,layers,models"
   ]
  },
  {
   "cell_type": "code",
   "execution_count": 29,
   "metadata": {},
   "outputs": [],
   "source": [
    "import re\n",
    "def my_label(image_name):\n",
    "    name=re.split('[-.]+',image_name)\n",
    "    name=name[-3]\n",
    "    if name in classes:\n",
    "        return classes.index(name)\n",
    "    else:\n",
    "        classes.append(name)\n",
    "        return classes.index(name)"
   ]
  },
  {
   "cell_type": "code",
   "execution_count": 30,
   "metadata": {},
   "outputs": [],
   "source": [
    "#importing data\n",
    "import os\n",
    "from random import shuffle\n",
    "from tqdm import tqdm"
   ]
  },
  {
   "cell_type": "code",
   "execution_count": 31,
   "metadata": {},
   "outputs": [],
   "source": [
    "def my_data():\n",
    "    data=[]\n",
    "    for folder in tqdm(os.listdir(r\"C:\\Users\\SULTHAN\\Images-1\\Images\")):\n",
    "        t_path=os.path.join(r\"C:\\Users\\SULTHAN\\Images-1\\Images\"+\"//\"+folder)\n",
    "        for img in tqdm(os.listdir(r\"C:\\Users\\SULTHAN\\Images-1\\Images\"+\"//\"+folder)):\n",
    "            path=os.path.join(t_path,img)\n",
    "            img_data=cv2.imread(path)\n",
    "            img_data=cv2.resize(img_data,(224,224))\n",
    "            data.append([np.array(img_data),my_label(img)])\n",
    "    shuffle(data)\n",
    "    return data    "
   ]
  },
  {
   "cell_type": "code",
   "execution_count": 35,
   "metadata": {},
   "outputs": [
    {
     "name": "stderr",
     "output_type": "stream",
     "text": [
      "  0%|                                                                                            | 0/4 [00:00<?, ?it/s]\n",
      "  0%|                                                                                          | 0/202 [00:00<?, ?it/s]\u001b[A\n",
      " 13%|██████████▋                                                                     | 27/202 [00:00<00:00, 262.65it/s]\u001b[A\n",
      " 28%|██████████████████████▏                                                         | 56/202 [00:00<00:00, 270.53it/s]\u001b[A\n",
      " 44%|██████████████████████████████████▊                                             | 88/202 [00:00<00:00, 291.33it/s]\u001b[A\n",
      " 58%|██████████████████████████████████████████████▏                                | 118/202 [00:00<00:00, 282.77it/s]\u001b[A\n",
      " 76%|███████████████████████████████████████████████████████████▊                   | 153/202 [00:00<00:00, 300.52it/s]\u001b[A\n",
      "100%|███████████████████████████████████████████████████████████████████████████████| 202/202 [00:00<00:00, 271.33it/s]\u001b[A\n",
      " 25%|█████████████████████                                                               | 1/4 [00:00<00:02,  1.33it/s]\n",
      "  0%|                                                                                          | 0/202 [00:00<?, ?it/s]\u001b[A\n",
      "  9%|███████▌                                                                        | 19/202 [00:00<00:01, 181.16it/s]\u001b[A\n",
      " 21%|████████████████▋                                                               | 42/202 [00:00<00:00, 206.76it/s]\u001b[A\n",
      " 31%|████████████████████████▉                                                       | 63/202 [00:00<00:00, 205.52it/s]\u001b[A\n",
      " 42%|█████████████████████████████████▎                                              | 84/202 [00:00<00:00, 194.58it/s]\u001b[A\n",
      " 58%|█████████████████████████████████████████████▊                                 | 117/202 [00:00<00:00, 239.04it/s]\u001b[A\n",
      " 74%|██████████████████████████████████████████████████████████▋                    | 150/202 [00:00<00:00, 266.88it/s]\u001b[A\n",
      "100%|███████████████████████████████████████████████████████████████████████████████| 202/202 [00:00<00:00, 246.68it/s]\u001b[A\n",
      " 50%|██████████████████████████████████████████                                          | 2/4 [00:01<00:01,  1.25it/s]\n",
      "  0%|                                                                                          | 0/202 [00:00<?, ?it/s]\u001b[A\n",
      " 17%|█████████████▊                                                                  | 35/202 [00:00<00:00, 302.46it/s]\u001b[A\n",
      " 33%|██████████████████████████▏                                                     | 66/202 [00:00<00:00, 259.65it/s]\u001b[A\n",
      " 46%|████████████████████████████████████▊                                           | 93/202 [00:00<00:00, 258.97it/s]\u001b[A\n",
      " 59%|██████████████████████████████████████████████▉                                | 120/202 [00:00<00:00, 228.01it/s]\u001b[A\n",
      " 78%|█████████████████████████████████████████████████████████████▊                 | 158/202 [00:00<00:00, 273.83it/s]\u001b[A\n",
      "100%|███████████████████████████████████████████████████████████████████████████████| 202/202 [00:00<00:00, 270.83it/s]\u001b[A\n",
      " 75%|███████████████████████████████████████████████████████████████                     | 3/4 [00:02<00:00,  1.28it/s]\n",
      "  0%|                                                                                          | 0/202 [00:00<?, ?it/s]\u001b[A\n",
      " 22%|█████████████████▍                                                              | 44/202 [00:00<00:00, 438.04it/s]\u001b[A\n",
      " 50%|███████████████████████████████████████▌                                       | 101/202 [00:00<00:00, 506.96it/s]\u001b[A\n",
      " 75%|███████████████████████████████████████████████████████████▍                   | 152/202 [00:00<00:00, 315.04it/s]\u001b[A\n",
      "100%|███████████████████████████████████████████████████████████████████████████████| 202/202 [00:00<00:00, 346.66it/s]\u001b[A\n",
      "100%|████████████████████████████████████████████████████████████████████████████████████| 4/4 [00:02<00:00,  1.36it/s]\n"
     ]
    }
   ],
   "source": [
    "data=my_data()"
   ]
  },
  {
   "cell_type": "code",
   "execution_count": 36,
   "metadata": {},
   "outputs": [
    {
     "data": {
      "text/plain": [
       "['cat', 'dog', 'horse', 'rider']"
      ]
     },
     "execution_count": 36,
     "metadata": {},
     "output_type": "execute_result"
    }
   ],
   "source": [
    "classes"
   ]
  },
  {
   "cell_type": "code",
   "execution_count": 37,
   "metadata": {},
   "outputs": [],
   "source": [
    "def plot_sample(x,y,index):\n",
    "    plt.figure(figsize=(15,2))\n",
    "    plt.imshow(x[index])\n",
    "    plt.xlabel(classes[y[index]])"
   ]
  },
  {
   "cell_type": "code",
   "execution_count": 39,
   "metadata": {},
   "outputs": [],
   "source": [
    "x=np.array([a[0] for a in data])\n",
    "y=np.array([a[1] for a in data])\n"
   ]
  },
  {
   "cell_type": "code",
   "execution_count": 41,
   "metadata": {},
   "outputs": [],
   "source": [
    "from sklearn.model_selection import train_test_split\n",
    "x_train,x_test,y_train,y_test=train_test_split(x,y,test_size=0.20)"
   ]
  },
  {
   "cell_type": "code",
   "execution_count": 42,
   "metadata": {},
   "outputs": [
    {
     "data": {
      "image/png": "[encoded data removed]",
      "text/plain": [
       "<Figure size 1080x144 with 1 Axes>"
      ]
     },
     "metadata": {
      "needs_background": "light"
     },
     "output_type": "display_data"
    }
   ],
   "source": [
    "plot_sample(x_train,y_train,2)"
   ]
  },
  {
   "cell_type": "code",
   "execution_count": 43,
   "metadata": {},
   "outputs": [],
   "source": [
    "#Normalizing the pixels of images\n",
    "x_train=x_train/255.0\n",
    "x_test=x_test/255.0"
   ]
  },
  {
   "cell_type": "code",
   "execution_count": 48,
   "metadata": {},
   "outputs": [],
   "source": [
    "#Artificial networks\n",
    "ann=models.Sequential([\n",
    "    layers.Flatten(input_shape=[224,224,3]),\n",
    "    layers.Dense(30,activation='relu'),\n",
    "    layers.Dense(100,activation='relu'),\n",
    "    layers.Dense(10,activation='sigmoid')\n",
    "])\n",
    "ann.compile(optimizer='SGD',\n",
    "            loss='sparse_categorical_crossentropy',\n",
    "            metrics=['accuracy'])"
   ]
  },
  {
   "cell_type": "code",
   "execution_count": 49,
   "metadata": {},
   "outputs": [
    {
     "name": "stdout",
     "output_type": "stream",
     "text": [
      "Epoch 1/10\n",
      "21/21 [==============================] - 2s 47ms/step - loss: 6.6371 - accuracy: 0.1910\n",
      "Epoch 2/10\n",
      "21/21 [==============================] - 1s 35ms/step - loss: 2.2474 - accuracy: 0.2321\n",
      "Epoch 3/10\n",
      "21/21 [==============================] - 1s 31ms/step - loss: 2.1961 - accuracy: 0.2546\n",
      "Epoch 4/10\n",
      "21/21 [==============================] - 1s 32ms/step - loss: 2.1473 - accuracy: 0.2671\n",
      "Epoch 5/10\n",
      "21/21 [==============================] - 1s 32ms/step - loss: 2.1036 - accuracy: 0.2476\n",
      "Epoch 6/10\n",
      "21/21 [==============================] - 1s 32ms/step - loss: 2.0578 - accuracy: 0.2735\n",
      "Epoch 7/10\n",
      "21/21 [==============================] - 1s 31ms/step - loss: 2.0189 - accuracy: 0.2505\n",
      "Epoch 8/10\n",
      "21/21 [==============================] - 1s 31ms/step - loss: 1.9780 - accuracy: 0.2658\n",
      "Epoch 9/10\n",
      "21/21 [==============================] - 1s 31ms/step - loss: 1.9362 - accuracy: 0.2803\n",
      "Epoch 10/10\n",
      "21/21 [==============================] - 1s 30ms/step - loss: 1.9042 - accuracy: 0.2670\n"
     ]
    },
    {
     "data": {
      "text/plain": [
       "<tensorflow.python.keras.callbacks.History at 0x17d9d463160>"
      ]
     },
     "execution_count": 49,
     "metadata": {},
     "output_type": "execute_result"
    }
   ],
   "source": [
    "ann.fit(x_train,y_train,epochs=10)"
   ]
  },
  {
   "cell_type": "code",
   "execution_count": 47,
   "metadata": {},
   "outputs": [
    {
     "name": "stdout",
     "output_type": "stream",
     "text": [
      "6/6 [==============================] - 3s 23ms/step - loss: 2.6363 - accuracy: 0.0000e+00\n"
     ]
    },
    {
     "data": {
      "text/plain": [
       "[2.6092774868011475, 0.0]"
      ]
     },
     "execution_count": 47,
     "metadata": {},
     "output_type": "execute_result"
    }
   ],
   "source": [
    "ann.evaluate(x_test,y_test)"
   ]
  },
  {
   "cell_type": "code",
   "execution_count": 50,
   "metadata": {},
   "outputs": [
    {
     "name": "stdout",
     "output_type": "stream",
     "text": [
      "              precision    recall  f1-score   support\n",
      "\n",
      "           0       0.00      0.00      0.00        41\n",
      "           1       0.00      0.00      0.00        40\n",
      "           2       0.00      0.00      0.00        43\n",
      "           3       0.23      1.00      0.38        38\n",
      "\n",
      "    accuracy                           0.23       162\n",
      "   macro avg       0.06      0.25      0.10       162\n",
      "weighted avg       0.06      0.23      0.09       162\n",
      "\n"
     ]
    },
    {
     "name": "stderr",
     "output_type": "stream",
     "text": [
      "c:\\python\\python38\\lib\\site-packages\\sklearn\\metrics\\_classification.py:1245: UndefinedMetricWarning: Precision and F-score are ill-defined and being set to 0.0 in labels with no predicted samples. Use `zero_division` parameter to control this behavior.\n",
      "  _warn_prf(average, modifier, msg_start, len(result))\n",
      "c:\\python\\python38\\lib\\site-packages\\sklearn\\metrics\\_classification.py:1245: UndefinedMetricWarning: Precision and F-score are ill-defined and being set to 0.0 in labels with no predicted samples. Use `zero_division` parameter to control this behavior.\n",
      "  _warn_prf(average, modifier, msg_start, len(result))\n",
      "c:\\python\\python38\\lib\\site-packages\\sklearn\\metrics\\_classification.py:1245: UndefinedMetricWarning: Precision and F-score are ill-defined and being set to 0.0 in labels with no predicted samples. Use `zero_division` parameter to control this behavior.\n",
      "  _warn_prf(average, modifier, msg_start, len(result))\n"
     ]
    }
   ],
   "source": [
    "from sklearn.metrics import classification_report,confusion_matrix\n",
    "import numpy as np\n",
    "y_pred=ann.predict(x_test)\n",
    "y_pred_classes=[np.argmax(element) for element in y_pred]\n",
    "print(classification_report(y_test,y_pred_classes))"
   ]
  },
  {
   "cell_type": "code",
   "execution_count": null,
   "metadata": {},
   "outputs": [],
   "source": [
    "#Applying SVM"
   ]
  },
  {
   "cell_type": "code",
   "execution_count": 51,
   "metadata": {},
   "outputs": [],
   "source": [
    "x= x.reshape(len(x),-1)\n",
    "x_train,x_test,y_train,y_test=train_test_split(x,y,test_size=0.20)"
   ]
  },
  {
   "cell_type": "code",
   "execution_count": 52,
   "metadata": {},
   "outputs": [
    {
     "data": {
      "text/plain": [
       "SVC(probability=True, random_state=42)"
      ]
     },
     "execution_count": 52,
     "metadata": {},
     "output_type": "execute_result"
    }
   ],
   "source": [
    "from sklearn import svm\n",
    "svm = svm.SVC(kernel='rbf', probability=True, random_state=42)\n",
    "\n",
    "# fit model\n",
    "svm.fit(x_train, y_train)"
   ]
  },
  {
   "cell_type": "code",
   "execution_count": 53,
   "metadata": {},
   "outputs": [
    {
     "name": "stdout",
     "output_type": "stream",
     "text": [
      "              precision    recall  f1-score   support\n",
      "\n",
      "           0       0.43      0.49      0.45        41\n",
      "           1       0.31      0.30      0.30        40\n",
      "           2       0.73      0.77      0.75        39\n",
      "           3       0.71      0.60      0.65        42\n",
      "\n",
      "    accuracy                           0.54       162\n",
      "   macro avg       0.54      0.54      0.54       162\n",
      "weighted avg       0.55      0.54      0.54       162\n",
      "\n"
     ]
    }
   ],
   "source": [
    "y_pred = svm.predict(x_test)\n",
    "print(classification_report(y_test,y_pred))"
   ]
  },
  {
   "cell_type": "code",
   "execution_count": 54,
   "metadata": {},
   "outputs": [
    {
     "data": {
      "text/plain": [
       "SVC(kernel='poly', probability=True, random_state=42)"
      ]
     },
     "execution_count": 54,
     "metadata": {},
     "output_type": "execute_result"
    }
   ],
   "source": [
    "from sklearn import svm\n",
    "svm = svm.SVC(kernel='poly', probability=True, random_state=42)\n",
    "\n",
    "# fit model\n",
    "svm.fit(x_train, y_train)"
   ]
  },
  {
   "cell_type": "code",
   "execution_count": 55,
   "metadata": {},
   "outputs": [
    {
     "name": "stdout",
     "output_type": "stream",
     "text": [
      "              precision    recall  f1-score   support\n",
      "\n",
      "           0       0.45      0.61      0.52        41\n",
      "           1       0.32      0.30      0.31        40\n",
      "           2       0.72      0.74      0.73        39\n",
      "           3       0.80      0.57      0.67        42\n",
      "\n",
      "    accuracy                           0.56       162\n",
      "   macro avg       0.58      0.56      0.56       162\n",
      "weighted avg       0.58      0.56      0.56       162\n",
      "\n"
     ]
    }
   ],
   "source": [
    "y_pred = svm.predict(x_test)\n",
    "print(classification_report(y_test,y_pred))"
   ]
  },
  {
   "cell_type": "code",
   "execution_count": null,
   "metadata": {},
   "outputs": [],
   "source": []
  }
 ],
 "metadata": {
  "kernelspec": {
   "display_name": "Python 3",
   "language": "python",
   "name": "python3"
  },
  "language_info": {
   "codemirror_mode": {
    "name": "ipython",
    "version": 3
   },
   "file_extension": ".py",
   "mimetype": "text/x-python",
   "name": "python",
   "nbconvert_exporter": "python",
   "pygments_lexer": "ipython3",
   "version": "3.8.2"
  }
 },
 "nbformat": 4,
 "nbformat_minor": 4
}
